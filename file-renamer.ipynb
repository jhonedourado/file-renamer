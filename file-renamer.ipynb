{
 "cells": [
  {
   "cell_type": "code",
   "execution_count": null,
   "metadata": {},
   "outputs": [],
   "source": [
    "fileName = str(input(\"File Name: \")).lower()\n",
    "punctuation = \"\"\"!\"#$%&'()*+,-./:;<=>?@[\\]^_`{|}~\"\"\"\n",
    "\n",
    "def rename(name:str):\n",
    "  return removePunctuation(name)\n",
    "\n",
    "def removePunctuation(name:str):\n",
    "  for i in range(len(punctuation)):\n",
    "    name = name.replace(punctuation[i], \" \")\n",
    "  return transformVector(name)\n",
    "\n",
    "def transformVector(name:str):\n",
    "  name = name.split()\n",
    "  return rewrite(name)\n",
    "\n",
    "def rewrite(name:list):\n",
    "  newName = \"\"\n",
    "  for i in range(len(name)):\n",
    "    newName += name[i] + \"-\"\n",
    "  newName = newName[:-1]\n",
    "  return newName\n",
    "\n",
    "print(rename(fileName))"
   ]
  }
 ],
 "metadata": {
  "kernelspec": {
   "display_name": "Python 3",
   "language": "python",
   "name": "python3"
  },
  "language_info": {
   "codemirror_mode": {
    "name": "ipython",
    "version": 3
   },
   "file_extension": ".py",
   "mimetype": "text/x-python",
   "name": "python",
   "nbconvert_exporter": "python",
   "pygments_lexer": "ipython3",
   "version": "3.11.4"
  }
 },
 "nbformat": 4,
 "nbformat_minor": 2
}
